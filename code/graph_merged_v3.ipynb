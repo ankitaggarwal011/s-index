{
 "cells": [
  {
   "cell_type": "code",
   "execution_count": 4,
   "metadata": {
    "collapsed": true
   },
   "outputs": [],
   "source": [
    "import numpy as np\n",
    "import pandas as pd\n",
    "import matplotlib\n",
    "import matplotlib.pyplot as plt\n",
    "import os\n",
    "import gc"
   ]
  },
  {
   "cell_type": "code",
   "execution_count": 59,
   "metadata": {
    "collapsed": false
   },
   "outputs": [
    {
     "data": {
      "text/plain": [
       "['references6.pickle',\n",
       " 'references0.pickle',\n",
       " 'references5.pickle',\n",
       " 'references3.pickle',\n",
       " 'references8.pickle',\n",
       " 'references2.pickle',\n",
       " 'references1.pickle',\n",
       " 'references7.pickle',\n",
       " 'references9.pickle',\n",
       " 'references10.pickle',\n",
       " 'references_merged.pickle',\n",
       " 'references4.pickle']"
      ]
     },
     "execution_count": 59,
     "metadata": {},
     "output_type": "execute_result"
    }
   ],
   "source": [
    "os.listdir('flattened_chunks_ref/')"
   ]
  },
  {
   "cell_type": "code",
   "execution_count": 60,
   "metadata": {
    "collapsed": true
   },
   "outputs": [],
   "source": [
    "# os.remove(MERGED_PICKLE_PATH)"
   ]
  },
  {
   "cell_type": "code",
   "execution_count": 61,
   "metadata": {
    "collapsed": false
   },
   "outputs": [],
   "source": [
    "MERGED_PICKLE_PATH = 'flattened_chunks_ref/references_merged.pickle'\n",
    "try:\n",
    "    dblp_flattened_ref_df = pd.read_pickle(MERGED_PICKLE_PATH)\n",
    "except:\n",
    "    chunks_df = []\n",
    "    pickle_files = os.listdir('flattened_chunks_ref/')\n",
    "    for file in pickle_files:\n",
    "        print('flattened_chunks_ref/'+file)\n",
    "        temp_df = pd.read_pickle('flattened_chunks_ref/'+file)\n",
    "        chunks_df.append(temp_df)\n",
    "\n",
    "    print(len(chunks_df))\n",
    "    dblp_flattened_ref_df = pd.concat(chunks_df)\n",
    "    dblp_flattened_ref_df.to_pickle(MERGED_PICKLE_PATH)\n"
   ]
  },
  {
   "cell_type": "code",
   "execution_count": 62,
   "metadata": {
    "collapsed": false
   },
   "outputs": [
    {
     "data": {
      "text/html": [
       "<div>\n",
       "<style scoped>\n",
       "    .dataframe tbody tr th:only-of-type {\n",
       "        vertical-align: middle;\n",
       "    }\n",
       "\n",
       "    .dataframe tbody tr th {\n",
       "        vertical-align: top;\n",
       "    }\n",
       "\n",
       "    .dataframe thead th {\n",
       "        text-align: right;\n",
       "    }\n",
       "</style>\n",
       "<table border=\"1\" class=\"dataframe\">\n",
       "  <thead>\n",
       "    <tr style=\"text-align: right;\">\n",
       "      <th></th>\n",
       "      <th>id</th>\n",
       "      <th>references</th>\n",
       "    </tr>\n",
       "  </thead>\n",
       "  <tbody>\n",
       "    <tr>\n",
       "      <th>0</th>\n",
       "      <td>089cb00e-3d11-4e9b-8370-d5ccbddba5dd</td>\n",
       "      <td>624e102b-e716-44f3-8957-866f8010c4d4</td>\n",
       "    </tr>\n",
       "    <tr>\n",
       "      <th>1</th>\n",
       "      <td>089cb00e-3d11-4e9b-8370-d5ccbddba5dd</td>\n",
       "      <td>6527f747-563e-4e5f-b9a1-44ea23adbf26</td>\n",
       "    </tr>\n",
       "    <tr>\n",
       "      <th>2</th>\n",
       "      <td>089cb00e-3d11-4e9b-8370-d5ccbddba5dd</td>\n",
       "      <td>f0b75351-be10-4961-a1b7-414945b42ab9</td>\n",
       "    </tr>\n",
       "    <tr>\n",
       "      <th>3</th>\n",
       "      <td>089cb5a9-f57d-4f99-ae15-7d7d8d557abf</td>\n",
       "      <td>17df7757-4086-48a6-bc72-626ac568ad09</td>\n",
       "    </tr>\n",
       "    <tr>\n",
       "      <th>4</th>\n",
       "      <td>089cb5a9-f57d-4f99-ae15-7d7d8d557abf</td>\n",
       "      <td>2bc197a7-eacb-4458-bafa-a04b77cf8790</td>\n",
       "    </tr>\n",
       "  </tbody>\n",
       "</table>\n",
       "</div>"
      ],
      "text/plain": [
       "                                     id                            references\n",
       "0  089cb00e-3d11-4e9b-8370-d5ccbddba5dd  624e102b-e716-44f3-8957-866f8010c4d4\n",
       "1  089cb00e-3d11-4e9b-8370-d5ccbddba5dd  6527f747-563e-4e5f-b9a1-44ea23adbf26\n",
       "2  089cb00e-3d11-4e9b-8370-d5ccbddba5dd  f0b75351-be10-4961-a1b7-414945b42ab9\n",
       "3  089cb5a9-f57d-4f99-ae15-7d7d8d557abf  17df7757-4086-48a6-bc72-626ac568ad09\n",
       "4  089cb5a9-f57d-4f99-ae15-7d7d8d557abf  2bc197a7-eacb-4458-bafa-a04b77cf8790"
      ]
     },
     "execution_count": 62,
     "metadata": {},
     "output_type": "execute_result"
    }
   ],
   "source": [
    "dblp_flattened_ref_df.head()"
   ]
  },
  {
   "cell_type": "code",
   "execution_count": 63,
   "metadata": {
    "collapsed": false
   },
   "outputs": [
    {
     "data": {
      "text/plain": [
       "(25529848, 2)"
      ]
     },
     "execution_count": 63,
     "metadata": {},
     "output_type": "execute_result"
    }
   ],
   "source": [
    "dblp_flattened_ref_df.shape"
   ]
  },
  {
   "cell_type": "code",
   "execution_count": 64,
   "metadata": {
    "collapsed": false
   },
   "outputs": [],
   "source": [
    "dblp_flattened_ref_df = dblp_flattened_ref_df[dblp_flattened_ref_df.references != \"[]\"]"
   ]
  },
  {
   "cell_type": "code",
   "execution_count": 65,
   "metadata": {
    "collapsed": false
   },
   "outputs": [
    {
     "data": {
      "text/plain": [
       "(25166985, 2)"
      ]
     },
     "execution_count": 65,
     "metadata": {},
     "output_type": "execute_result"
    }
   ],
   "source": [
    "dblp_flattened_ref_df.shape"
   ]
  },
  {
   "cell_type": "code",
   "execution_count": 71,
   "metadata": {
    "collapsed": false
   },
   "outputs": [
    {
     "data": {
      "text/plain": [
       "69"
      ]
     },
     "execution_count": 71,
     "metadata": {},
     "output_type": "execute_result"
    }
   ],
   "source": [
    "gc.collect()"
   ]
  },
  {
   "cell_type": "code",
   "execution_count": 78,
   "metadata": {
    "collapsed": false
   },
   "outputs": [],
   "source": [
    "graph = dict()\n",
    "max_len = 0\n",
    "for idx, row in dblp_flattened_ref_df.iterrows():\n",
    "    if row['references'] not in graph:\n",
    "        graph[row['references']] = []\n",
    "    graph[row['references']].append(row['id'])"
   ]
  },
  {
   "cell_type": "code",
   "execution_count": 79,
   "metadata": {
    "collapsed": true
   },
   "outputs": [],
   "source": [
    "import pickle\n",
    "pickle.dump(graph, open('graph.pickle', 'wb'))"
   ]
  },
  {
   "cell_type": "code",
   "execution_count": 84,
   "metadata": {
    "collapsed": false
   },
   "outputs": [
    {
     "data": {
      "text/plain": [
       "1985920"
      ]
     },
     "execution_count": 84,
     "metadata": {},
     "output_type": "execute_result"
    }
   ],
   "source": [
    "len(graph['624e102b-e716-44f3-8957-866f8010c4d4'])\n",
    "len(graph)"
   ]
  },
  {
   "cell_type": "code",
   "execution_count": 66,
   "metadata": {
    "collapsed": true
   },
   "outputs": [],
   "source": [
    "import networkx as nx"
   ]
  },
  {
   "cell_type": "code",
   "execution_count": 67,
   "metadata": {
    "collapsed": false
   },
   "outputs": [],
   "source": [
    "# g = nx.from_pandas_dataframe(dblp_flattened_ref_df, \"references\", \"id\",\n",
    "#                          edge_attr=True, create_using=nx.DiGraph())"
   ]
  },
  {
   "cell_type": "code",
   "execution_count": 68,
   "metadata": {
    "collapsed": false
   },
   "outputs": [
    {
     "data": {
      "text/plain": [
       "<networkx.classes.digraph.DiGraph at 0x7f768e12d860>"
      ]
     },
     "execution_count": 68,
     "metadata": {},
     "output_type": "execute_result"
    }
   ],
   "source": [
    "g"
   ]
  },
  {
   "cell_type": "code",
   "execution_count": 42,
   "metadata": {
    "collapsed": false
   },
   "outputs": [
    {
     "data": {
      "text/plain": [
       "897"
      ]
     },
     "execution_count": 42,
     "metadata": {},
     "output_type": "execute_result"
    }
   ],
   "source": [
    "# len(list(nx.dfs_edges(g)))"
   ]
  },
  {
   "cell_type": "code",
   "execution_count": 48,
   "metadata": {
    "collapsed": false
   },
   "outputs": [],
   "source": [
    "# edges = list(nx.bfs_edges(g, '624e102b-e716-44f3-8957-866f8010c4d4'))"
   ]
  },
  {
   "cell_type": "code",
   "execution_count": 49,
   "metadata": {
    "collapsed": false
   },
   "outputs": [
    {
     "data": {
      "text/plain": [
       "2284885"
      ]
     },
     "execution_count": 49,
     "metadata": {},
     "output_type": "execute_result"
    }
   ],
   "source": [
    "len(edges)"
   ]
  },
  {
   "cell_type": "code",
   "execution_count": 52,
   "metadata": {
    "collapsed": true
   },
   "outputs": [],
   "source": [
    "# edges1 = list(nx.bfs_edges(g, 'f0b75351-be10-4961-a1b7-414945b42ab9'))"
   ]
  },
  {
   "cell_type": "code",
   "execution_count": null,
   "metadata": {
    "collapsed": true
   },
   "outputs": [],
   "source": [
    "# h = nx.hits(g)"
   ]
  },
  {
   "cell_type": "code",
   "execution_count": 151,
   "metadata": {
    "collapsed": true
   },
   "outputs": [],
   "source": [
    "import math"
   ]
  },
  {
   "cell_type": "code",
   "execution_count": 152,
   "metadata": {
    "collapsed": true
   },
   "outputs": [],
   "source": [
    "def dp():\n",
    "    dp.memo = {}\n",
    "\n",
    "def reach(p, h, adj, visited, cutoff):\n",
    "    if p in visited:\n",
    "        return None\n",
    "    \n",
    "    if h > cutoff:\n",
    "        return None\n",
    "\n",
    "    visited.add(p)\n",
    "\n",
    "    if (p, h) in dp.memo:\n",
    "        return dp.memo[(p, h)]\n",
    "\n",
    "    rp = len(adj.get(p,[])) * (math.sqrt(h))\n",
    "    np = 1\n",
    "    hp = h\n",
    "    for q in adj.get(p,[]):\n",
    "        reach_tuple = reach(q, h + 1, adj, visited, cutoff)\n",
    "        if reach_tuple is None:\n",
    "            continue\n",
    "\n",
    "        rq, hq, nq = reach_tuple\n",
    "        rp = rp + rq\n",
    "        hp = max(hp , hq)   \n",
    "        np = np + nq\n",
    "\n",
    "    dp.memo[(p, h)] = (rp, hp, np)\n",
    "\n",
    "    return (rp, hp, np)"
   ]
  },
  {
   "cell_type": "code",
   "execution_count": 160,
   "metadata": {
    "collapsed": false
   },
   "outputs": [
    {
     "data": {
      "text/plain": [
       "0"
      ]
     },
     "execution_count": 160,
     "metadata": {},
     "output_type": "execute_result"
    }
   ],
   "source": [
    "gc.collect()"
   ]
  },
  {
   "cell_type": "code",
   "execution_count": 161,
   "metadata": {
    "collapsed": false
   },
   "outputs": [
    {
     "name": "stdout",
     "output_type": "stream",
     "text": [
      "CPU times: user 4 µs, sys: 0 ns, total: 4 µs\n",
      "Wall time: 8.82 µs\n"
     ]
    },
    {
     "data": {
      "text/plain": [
       "(1428013.1232224863, 5, 71596)"
      ]
     },
     "execution_count": 161,
     "metadata": {},
     "output_type": "execute_result"
    }
   ],
   "source": [
    "%time\n",
    "dp()\n",
    "reach(p='624e102b-e716-44f3-8957-866f8010c4d4', h=0, adj=graph, visited=set([]), cutoff=5)"
   ]
  },
  {
   "cell_type": "code",
   "execution_count": 162,
   "metadata": {
    "collapsed": false
   },
   "outputs": [
    {
     "name": "stdout",
     "output_type": "stream",
     "text": [
      "CPU times: user 3 µs, sys: 0 ns, total: 3 µs\n",
      "Wall time: 7.15 µs\n"
     ]
    },
    {
     "data": {
      "text/plain": [
       "(855146.6542541811, 5, 41180)"
      ]
     },
     "execution_count": 162,
     "metadata": {},
     "output_type": "execute_result"
    }
   ],
   "source": [
    "%time\n",
    "dp()\n",
    "reach(p='f0b75351-be10-4961-a1b7-414945b42ab9', h=0, adj=graph, visited=set([]), cutoff=5)"
   ]
  },
  {
   "cell_type": "code",
   "execution_count": 165,
   "metadata": {
    "collapsed": false
   },
   "outputs": [
    {
     "data": {
      "text/plain": [
       "{'1736fc7c-c936-4f2b-87ef-30dad4fdf886': (133484.2689338016, 5, 8815),\n",
       " '5647df54-107b-4a48-a818-8d4f9c0be37b': (5178.759164246329, 5, 751),\n",
       " 'a3866faf-6b19-4f84-8f68-2ea2f0873199': (871.9630786536786, 5, 172),\n",
       " 'b5c0acb1-cb42-4473-8e92-8f7c9ae334b0': (5.414213562373095, 3, 6),\n",
       " 'dcf4b907-a78c-4076-a216-62f684b696fb': (693.1064995930915, 5, 107)}"
      ]
     },
     "execution_count": 165,
     "metadata": {},
     "output_type": "execute_result"
    }
   ],
   "source": [
    "reach_vals = dict()\n",
    "for p in graph.keys():\n",
    "    r = reach(p=p, h=0, adj=graph, visited=set([]), cutoff=5)\n",
    "    reach_vals[p] = r"
   ]
  },
  {
   "cell_type": "code",
   "execution_count": 1,
   "metadata": {
    "collapsed": true
   },
   "outputs": [],
   "source": [
    "import pickle\n",
    "reach_vals = pickle.load(open('reach_vals_with_category_10.pickle', 'rb'))"
   ]
  },
  {
   "cell_type": "code",
   "execution_count": 2,
   "metadata": {
    "collapsed": false
   },
   "outputs": [
    {
     "data": {
      "text/plain": [
       "1985920"
      ]
     },
     "execution_count": 2,
     "metadata": {},
     "output_type": "execute_result"
    }
   ],
   "source": [
    "len(reach_vals)"
   ]
  },
  {
   "cell_type": "code",
   "execution_count": 5,
   "metadata": {
    "collapsed": false
   },
   "outputs": [],
   "source": [
    "reach_df = pd.DataFrame(reach_vals)"
   ]
  },
  {
   "cell_type": "code",
   "execution_count": 6,
   "metadata": {
    "collapsed": false
   },
   "outputs": [],
   "source": [
    "reaches = []\n",
    "for key, val in reach_vals.items():\n",
    "    reaches.append((key, val[0], val[1], val[2]))"
   ]
  },
  {
   "cell_type": "code",
   "execution_count": 7,
   "metadata": {
    "collapsed": false
   },
   "outputs": [
    {
     "data": {
      "text/plain": [
       "[('604de395-762d-4a73-b1f2-43a1c417834f', 0, 1, 2),\n",
       " ('332594be-9822-413c-aa98-004fda59e0bd', 0, 1, 2),\n",
       " ('6d27af8a-f73b-4c24-bb9e-0dd3f0d6e66d', 7, 3, 4),\n",
       " ('f478b5dd-1632-47ad-b57a-bee020bc5777', 4, 1, 2),\n",
       " ('575c4a39-d788-43ba-9b59-7e58557cde57', 0, 1, 2),\n",
       " ('8eb50f74-89a2-4683-9a9d-e7615c74d805', 0, 1, 2),\n",
       " ('eda969b5-a3ef-44d6-97ad-14e540150d7f', 594768, 10, 11356),\n",
       " ('10cb651f-7eb7-4b36-bc30-1a2b5a19498c', 1088, 7, 186),\n",
       " ('bcc214d3-3b59-4c76-a3d9-6825534ba1b9', 48, 4, 22),\n",
       " ('bd520280-a307-4fa0-9145-c9d13f9d01d7', 11347068, 10, 153740)]"
      ]
     },
     "execution_count": 7,
     "metadata": {},
     "output_type": "execute_result"
    }
   ],
   "source": [
    "reaches[:10]"
   ]
  },
  {
   "cell_type": "code",
   "execution_count": 8,
   "metadata": {
    "collapsed": true
   },
   "outputs": [],
   "source": [
    "labels = ['id', 'reach', 'h', 'n']"
   ]
  },
  {
   "cell_type": "code",
   "execution_count": 9,
   "metadata": {
    "collapsed": true
   },
   "outputs": [],
   "source": [
    "reach_df = pd.DataFrame.from_records(reaches, columns=labels)"
   ]
  },
  {
   "cell_type": "code",
   "execution_count": 10,
   "metadata": {
    "collapsed": false
   },
   "outputs": [
    {
     "data": {
      "text/html": [
       "<div>\n",
       "<style scoped>\n",
       "    .dataframe tbody tr th:only-of-type {\n",
       "        vertical-align: middle;\n",
       "    }\n",
       "\n",
       "    .dataframe tbody tr th {\n",
       "        vertical-align: top;\n",
       "    }\n",
       "\n",
       "    .dataframe thead th {\n",
       "        text-align: right;\n",
       "    }\n",
       "</style>\n",
       "<table border=\"1\" class=\"dataframe\">\n",
       "  <thead>\n",
       "    <tr style=\"text-align: right;\">\n",
       "      <th></th>\n",
       "      <th>id</th>\n",
       "      <th>reach</th>\n",
       "      <th>h</th>\n",
       "      <th>n</th>\n",
       "    </tr>\n",
       "  </thead>\n",
       "  <tbody>\n",
       "    <tr>\n",
       "      <th>0</th>\n",
       "      <td>604de395-762d-4a73-b1f2-43a1c417834f</td>\n",
       "      <td>0</td>\n",
       "      <td>1</td>\n",
       "      <td>2</td>\n",
       "    </tr>\n",
       "    <tr>\n",
       "      <th>1</th>\n",
       "      <td>332594be-9822-413c-aa98-004fda59e0bd</td>\n",
       "      <td>0</td>\n",
       "      <td>1</td>\n",
       "      <td>2</td>\n",
       "    </tr>\n",
       "    <tr>\n",
       "      <th>2</th>\n",
       "      <td>6d27af8a-f73b-4c24-bb9e-0dd3f0d6e66d</td>\n",
       "      <td>7</td>\n",
       "      <td>3</td>\n",
       "      <td>4</td>\n",
       "    </tr>\n",
       "    <tr>\n",
       "      <th>3</th>\n",
       "      <td>f478b5dd-1632-47ad-b57a-bee020bc5777</td>\n",
       "      <td>4</td>\n",
       "      <td>1</td>\n",
       "      <td>2</td>\n",
       "    </tr>\n",
       "    <tr>\n",
       "      <th>4</th>\n",
       "      <td>575c4a39-d788-43ba-9b59-7e58557cde57</td>\n",
       "      <td>0</td>\n",
       "      <td>1</td>\n",
       "      <td>2</td>\n",
       "    </tr>\n",
       "  </tbody>\n",
       "</table>\n",
       "</div>"
      ],
      "text/plain": [
       "                                     id  reach  h  n\n",
       "0  604de395-762d-4a73-b1f2-43a1c417834f      0  1  2\n",
       "1  332594be-9822-413c-aa98-004fda59e0bd      0  1  2\n",
       "2  6d27af8a-f73b-4c24-bb9e-0dd3f0d6e66d      7  3  4\n",
       "3  f478b5dd-1632-47ad-b57a-bee020bc5777      4  1  2\n",
       "4  575c4a39-d788-43ba-9b59-7e58557cde57      0  1  2"
      ]
     },
     "execution_count": 10,
     "metadata": {},
     "output_type": "execute_result"
    }
   ],
   "source": [
    "reach_df.head()"
   ]
  },
  {
   "cell_type": "code",
   "execution_count": 11,
   "metadata": {
    "collapsed": true
   },
   "outputs": [],
   "source": [
    "reach_df.sort_values(by='reach', inplace=True, ascending=False)"
   ]
  },
  {
   "cell_type": "code",
   "execution_count": 12,
   "metadata": {
    "collapsed": false
   },
   "outputs": [
    {
     "data": {
      "text/html": [
       "<div>\n",
       "<style scoped>\n",
       "    .dataframe tbody tr th:only-of-type {\n",
       "        vertical-align: middle;\n",
       "    }\n",
       "\n",
       "    .dataframe tbody tr th {\n",
       "        vertical-align: top;\n",
       "    }\n",
       "\n",
       "    .dataframe thead th {\n",
       "        text-align: right;\n",
       "    }\n",
       "</style>\n",
       "<table border=\"1\" class=\"dataframe\">\n",
       "  <thead>\n",
       "    <tr style=\"text-align: right;\">\n",
       "      <th></th>\n",
       "      <th>id</th>\n",
       "      <th>reach</th>\n",
       "      <th>h</th>\n",
       "      <th>n</th>\n",
       "    </tr>\n",
       "  </thead>\n",
       "  <tbody>\n",
       "    <tr>\n",
       "      <th>1188529</th>\n",
       "      <td>a662a4e7-415e-417e-8a8f-fe085d7e487f</td>\n",
       "      <td>35576189665344</td>\n",
       "      <td>10</td>\n",
       "      <td>246505444751</td>\n",
       "    </tr>\n",
       "    <tr>\n",
       "      <th>1490908</th>\n",
       "      <td>b49c1e2b-0cd0-4950-a724-00c698e5b49d</td>\n",
       "      <td>23699714081437</td>\n",
       "      <td>10</td>\n",
       "      <td>172037841940</td>\n",
       "    </tr>\n",
       "    <tr>\n",
       "      <th>1877125</th>\n",
       "      <td>5ebbd1f5-dfe5-4eec-9883-b8b5efea366c</td>\n",
       "      <td>23366901548285</td>\n",
       "      <td>10</td>\n",
       "      <td>162609805795</td>\n",
       "    </tr>\n",
       "    <tr>\n",
       "      <th>1549638</th>\n",
       "      <td>d5e5a24d-f80e-4f1a-b48b-22403b653276</td>\n",
       "      <td>19819022269650</td>\n",
       "      <td>10</td>\n",
       "      <td>138200632114</td>\n",
       "    </tr>\n",
       "    <tr>\n",
       "      <th>1633683</th>\n",
       "      <td>25b46064-0d14-4675-a8e7-ab20f1199e54</td>\n",
       "      <td>19016506729398</td>\n",
       "      <td>10</td>\n",
       "      <td>128374417771</td>\n",
       "    </tr>\n",
       "  </tbody>\n",
       "</table>\n",
       "</div>"
      ],
      "text/plain": [
       "                                           id           reach   h  \\\n",
       "1188529  a662a4e7-415e-417e-8a8f-fe085d7e487f  35576189665344  10   \n",
       "1490908  b49c1e2b-0cd0-4950-a724-00c698e5b49d  23699714081437  10   \n",
       "1877125  5ebbd1f5-dfe5-4eec-9883-b8b5efea366c  23366901548285  10   \n",
       "1549638  d5e5a24d-f80e-4f1a-b48b-22403b653276  19819022269650  10   \n",
       "1633683  25b46064-0d14-4675-a8e7-ab20f1199e54  19016506729398  10   \n",
       "\n",
       "                    n  \n",
       "1188529  246505444751  \n",
       "1490908  172037841940  \n",
       "1877125  162609805795  \n",
       "1549638  138200632114  \n",
       "1633683  128374417771  "
      ]
     },
     "execution_count": 12,
     "metadata": {},
     "output_type": "execute_result"
    }
   ],
   "source": [
    "reach_df.head()"
   ]
  },
  {
   "cell_type": "code",
   "execution_count": 13,
   "metadata": {
    "collapsed": true
   },
   "outputs": [],
   "source": [
    "reach_df.to_pickle('final_pickles/reach_df_10.pickle')"
   ]
  },
  {
   "cell_type": "code",
   "execution_count": 15,
   "metadata": {
    "collapsed": false
   },
   "outputs": [
    {
     "data": {
      "text/html": [
       "<div>\n",
       "<style scoped>\n",
       "    .dataframe tbody tr th:only-of-type {\n",
       "        vertical-align: middle;\n",
       "    }\n",
       "\n",
       "    .dataframe tbody tr th {\n",
       "        vertical-align: top;\n",
       "    }\n",
       "\n",
       "    .dataframe thead th {\n",
       "        text-align: right;\n",
       "    }\n",
       "</style>\n",
       "<table border=\"1\" class=\"dataframe\">\n",
       "  <thead>\n",
       "    <tr style=\"text-align: right;\">\n",
       "      <th></th>\n",
       "      <th>id</th>\n",
       "      <th>reach</th>\n",
       "      <th>h</th>\n",
       "      <th>n</th>\n",
       "    </tr>\n",
       "  </thead>\n",
       "  <tbody>\n",
       "    <tr>\n",
       "      <th>457928</th>\n",
       "      <td>87d1046b-cbea-4e4e-973b-12a6f6d20b77</td>\n",
       "      <td>3453</td>\n",
       "      <td>8</td>\n",
       "      <td>425</td>\n",
       "    </tr>\n",
       "  </tbody>\n",
       "</table>\n",
       "</div>"
      ],
      "text/plain": [
       "                                          id  reach  h    n\n",
       "457928  87d1046b-cbea-4e4e-973b-12a6f6d20b77   3453  8  425"
      ]
     },
     "execution_count": 15,
     "metadata": {},
     "output_type": "execute_result"
    }
   ],
   "source": [
    "reach_df[reach_df['id'] == '87d1046b-cbea-4e4e-973b-12a6f6d20b77']"
   ]
  },
  {
   "cell_type": "code",
   "execution_count": null,
   "metadata": {
    "collapsed": true
   },
   "outputs": [],
   "source": []
  }
 ],
 "metadata": {
  "kernelspec": {
   "display_name": "Python 3",
   "language": "python",
   "name": "python3"
  },
  "language_info": {
   "codemirror_mode": {
    "name": "ipython",
    "version": 3
   },
   "file_extension": ".py",
   "mimetype": "text/x-python",
   "name": "python",
   "nbconvert_exporter": "python",
   "pygments_lexer": "ipython3",
   "version": "3.5.1"
  }
 },
 "nbformat": 4,
 "nbformat_minor": 0
}
